{
  "nbformat": 4,
  "nbformat_minor": 0,
  "metadata": {
    "colab": {
      "name": "stock_price_prediction.ipynb",
      "provenance": [],
      "collapsed_sections": []
    },
    "kernelspec": {
      "name": "python3",
      "display_name": "Python 3"
    },
    "language_info": {
      "name": "python"
    },
    "accelerator": "GPU"
  },
  "cells": [
    {
      "cell_type": "code",
      "metadata": {
        "colab": {
          "base_uri": "https://localhost:8080/"
        },
        "id": "kYDl7Exa2OXq",
        "outputId": "f9568913-5c5f-43cc-e898-a4e7309ddef4"
      },
      "source": [
        "!pip install yfinance"
      ],
      "execution_count": null,
      "outputs": [
        {
          "output_type": "stream",
          "name": "stdout",
          "text": [
            "Collecting yfinance\n",
            "  Downloading yfinance-0.1.67-py2.py3-none-any.whl (25 kB)\n",
            "Requirement already satisfied: multitasking>=0.0.7 in /usr/local/lib/python3.7/dist-packages (from yfinance) (0.0.10)\n",
            "Collecting lxml>=4.5.1\n",
            "  Downloading lxml-4.6.4-cp37-cp37m-manylinux_2_17_x86_64.manylinux2014_x86_64.manylinux_2_24_x86_64.whl (6.3 MB)\n",
            "\u001b[K     |████████████████████████████████| 6.3 MB 7.5 MB/s \n",
            "\u001b[?25hRequirement already satisfied: pandas>=0.24 in /usr/local/lib/python3.7/dist-packages (from yfinance) (1.1.5)\n",
            "Requirement already satisfied: requests>=2.20 in /usr/local/lib/python3.7/dist-packages (from yfinance) (2.23.0)\n",
            "Requirement already satisfied: numpy>=1.15 in /usr/local/lib/python3.7/dist-packages (from yfinance) (1.19.5)\n",
            "Requirement already satisfied: python-dateutil>=2.7.3 in /usr/local/lib/python3.7/dist-packages (from pandas>=0.24->yfinance) (2.8.2)\n",
            "Requirement already satisfied: pytz>=2017.2 in /usr/local/lib/python3.7/dist-packages (from pandas>=0.24->yfinance) (2018.9)\n",
            "Requirement already satisfied: six>=1.5 in /usr/local/lib/python3.7/dist-packages (from python-dateutil>=2.7.3->pandas>=0.24->yfinance) (1.15.0)\n",
            "Requirement already satisfied: idna<3,>=2.5 in /usr/local/lib/python3.7/dist-packages (from requests>=2.20->yfinance) (2.10)\n",
            "Requirement already satisfied: urllib3!=1.25.0,!=1.25.1,<1.26,>=1.21.1 in /usr/local/lib/python3.7/dist-packages (from requests>=2.20->yfinance) (1.24.3)\n",
            "Requirement already satisfied: chardet<4,>=3.0.2 in /usr/local/lib/python3.7/dist-packages (from requests>=2.20->yfinance) (3.0.4)\n",
            "Requirement already satisfied: certifi>=2017.4.17 in /usr/local/lib/python3.7/dist-packages (from requests>=2.20->yfinance) (2021.10.8)\n",
            "Installing collected packages: lxml, yfinance\n",
            "  Attempting uninstall: lxml\n",
            "    Found existing installation: lxml 4.2.6\n",
            "    Uninstalling lxml-4.2.6:\n",
            "      Successfully uninstalled lxml-4.2.6\n",
            "Successfully installed lxml-4.6.4 yfinance-0.1.67\n"
          ]
        }
      ]
    },
    {
      "cell_type": "markdown",
      "metadata": {
        "id": "aOYOZKc82X8V"
      },
      "source": [
        "## Stock DATASET"
      ]
    },
    {
      "cell_type": "code",
      "metadata": {
        "id": "0PW3FBdA2XJn"
      },
      "source": [
        "from torch.utils.data import Dataset, DataLoader\n",
        "from typing import Union\n",
        "from matplotlib import pyplot as plt\n",
        "import torch\n",
        "import yfinance as yf\n",
        "import pandas as pd\n",
        "import numpy as np\n",
        "import os"
      ],
      "execution_count": null,
      "outputs": []
    },
    {
      "cell_type": "code",
      "metadata": {
        "colab": {
          "base_uri": "https://localhost:8080/"
        },
        "id": "R3hNzf_62Yh9",
        "outputId": "e15dbb92-32d8-4977-febc-a9a497fb1ccc"
      },
      "source": [
        "class StockPriceDataset(Dataset):\n",
        "    def __init__(self, start_date: str=\"jj-mm-aaaa\", end_date: str=\"jj-mm-aaaa\", \n",
        "                 interval: int=1, nb_samples: int=20, transform=None,\n",
        "                 file_dir: str=\"data/\", csv_file: str=None):\n",
        "\n",
        "        # If a local data file must be loaded:\n",
        "        if csv_file is not None:\n",
        "            self.root_dir = file_dir\n",
        "            self.filename = csv_file\n",
        "            with open(os.path.join(file_dir,csv_file), 'r') as file:\n",
        "                data = pd.read_csv(file, sep=',', header='infer')\n",
        "\n",
        "        else: # Data must be loaded on an online database:\n",
        "            dataset = yf.download('^GSPC', start=start_date, end=end_date, interval=interval)\n",
        "\n",
        "        self.data = dataset\n",
        "        self.nb_samples = nb_samples\n",
        "        self.transform = transform\n",
        "\n",
        "    def __len__(self) -> int:\n",
        "        return len(self.data)//self.nb_samples\n",
        "\n",
        "    def __getitem__(self, index) -> Union[torch.Tensor, float]:\n",
        "        # Load one sample more than nb_samples for normalizing, transform\n",
        "        sample = self.data['Close'][index*self.nb_samples:(index+1)*self.nb_samples+1]\n",
        "        # sample = self.data['Close'][index:index+self.nb_samples+1]\n",
        "        sample = torch.tensor(sample)\n",
        "        if self.transform:\n",
        "            sample = self.transform(sample)[1:]\n",
        "        else:\n",
        "            sample = sample[1:]\n",
        "        \n",
        "        label = sample[-1] # label is the last elem of sample\n",
        "\n",
        "        sample = sample[:-1] # removes label from sample\n",
        "        return sample, label\n",
        "\n",
        "def normalize_by_last_unknown_price(sample: torch.Tensor) -> torch.Tensor:\n",
        "    \"\"\"Divides the whole stock price sample by the last unknown price w_{p*t-1}\"\"\"\n",
        "    last_price = sample[0] # w_{pt-1}\n",
        "    return sample/last_price\n",
        "\n",
        "\n",
        "if __name__ == \"__main__\":\n",
        "\n",
        "    # download S&P data from yahoo finance\n",
        "    START_DATE = '1950-01-03'\n",
        "    END_DATE = '2021-11-16'\n",
        "    INTERVAL = '1d'\n",
        "    nb_samples = 15\n",
        "\n",
        "    dataset = StockPriceDataset(START_DATE, END_DATE, INTERVAL, nb_samples,\n",
        "                                transform=normalize_by_last_unknown_price)\n",
        "\n",
        "    dataloader = DataLoader(dataset, batch_size=16)\n",
        "    print(len(dataloader))\n",
        "    '''\n",
        "    for nb_samples = 15 and batch_size = 16\n",
        "    we have 76 batches\n",
        "\n",
        "    Each batch : X (16, 14), y (1, 16)\n",
        "    so each elmt of y corresponds to the following value of a line of X\n",
        "    In other words, each y is the value of the SNP after 15 days\n",
        "    '''\n",
        "    # for i_batch, batch in enumerate(dataloader):\n",
        "    #     print(\"i_batch = {}, batch = {}\".format(i_batch, batch))\n"
      ],
      "execution_count": null,
      "outputs": [
        {
          "output_type": "stream",
          "name": "stdout",
          "text": [
            "\r[*********************100%***********************]  1 of 1 completed\n",
            "76\n"
          ]
        }
      ]
    },
    {
      "cell_type": "markdown",
      "metadata": {
        "id": "5-PViga_2gvF"
      },
      "source": [
        "## Modèle"
      ]
    },
    {
      "cell_type": "code",
      "metadata": {
        "id": "4ZyhPYo82poe"
      },
      "source": [
        "from torch.nn import LSTM, Module, Dropout, ModuleList"
      ],
      "execution_count": null,
      "outputs": []
    },
    {
      "cell_type": "code",
      "metadata": {
        "id": "Z8eW8s6T2n-s"
      },
      "source": [
        "class StockAI(Module):\n",
        "     \n",
        "    def __init__(self, input_size, lstm_size, num_layers, keep_prob) -> None:\n",
        "        super().__init__()\n",
        "        self.input_size = input_size\n",
        "        self.lstm_size = lstm_size\n",
        "        self.num_layers = num_layers\n",
        "        self.lstm = LSTM(self.input_size, hidden_size = 1, num_layers = self.num_layers, dropout = 1 - keep_prob, batch_first = True)\n",
        "    \n",
        "    def forward(self,x):\n",
        "        a, b = self.lstm(x)\n",
        "        return b[0]\n",
        "    "
      ],
      "execution_count": null,
      "outputs": []
    },
    {
      "cell_type": "markdown",
      "metadata": {
        "id": "PERSa2AB2t9V"
      },
      "source": [
        "## Configuration"
      ]
    },
    {
      "cell_type": "code",
      "metadata": {
        "id": "Fl5Xcxyb2wP2"
      },
      "source": [
        "class StockAIConfig():\n",
        "    config = {\n",
        "        \"model\":{\n",
        "            \"input_size\": 1,\n",
        "            \"lstm_size\": 128,\n",
        "            \"num_layers\": 1,\n",
        "            \"keep_prob\": 0.8\n",
        "        },\n",
        "\n",
        "        \"dataset_train\":{\n",
        "            \"start_date\": '1950-01-03',\n",
        "            \"end_date\": '2008-11-16',\n",
        "            \"interval_date\": '1d',\n",
        "            \"nb_samples\":15,\n",
        "            \"batch_size\": 16,\n",
        "            \"shuffle\":False\n",
        "        },\n",
        "        \"dataset_test\":{\n",
        "            \"start_date\": '2008-11-17',\n",
        "            \"end_date\": '2021-11-16',\n",
        "            \"interval_date\": '1d',\n",
        "            \"nb_samples\":15,\n",
        "            \"batch_size\": 16,\n",
        "            \"shuffle\":False\n",
        "        },\n",
        "\n",
        "        \"learning\":{\n",
        "            \"num_steps\": 30,\n",
        "            \"init_lr\": 1e-03,\n",
        "            \"lr_decay\": 0.99,\n",
        "            \"init_epoch\": 5,\n",
        "            \"max_epoch\": 50\n",
        "        }   \n",
        "    }"
      ],
      "execution_count": null,
      "outputs": []
    },
    {
      "cell_type": "markdown",
      "metadata": {
        "id": "WhwEsvys21gH"
      },
      "source": [
        "##Prediction : Train / Test"
      ]
    },
    {
      "cell_type": "code",
      "metadata": {
        "id": "RLTXAyp320x-"
      },
      "source": [
        "import math\n",
        "import torch\n",
        "from torch.utils.data import DataLoader\n",
        "from torch.nn import MSELoss\n",
        "from torch.optim import RMSprop"
      ],
      "execution_count": null,
      "outputs": []
    },
    {
      "cell_type": "code",
      "metadata": {
        "colab": {
          "base_uri": "https://localhost:8080/"
        },
        "id": "mATSU_bg25Qv",
        "outputId": "11108376-35fe-49ed-b258-f4cf948e7183"
      },
      "source": [
        "# Model config\n",
        "config = StockAIConfig().config\n",
        "\n",
        "# CUDA for PyTorch\n",
        "use_cuda = torch.cuda.is_available()\n",
        "device = torch.device(\"cuda:0\" if use_cuda else \"cpu\")\n",
        "torch.backends.cudnn.benchmark = True\n",
        "\n",
        "# Init of the Dataset_train\n",
        "dataset_train = StockPriceDataset(config[\"dataset_train\"][\"start_date\"], \n",
        "                            config[\"dataset_train\"][\"end_date\"],\n",
        "                            config[\"dataset_train\"][\"interval_date\"], \n",
        "                            config[\"dataset_train\"][\"nb_samples\"],\n",
        "                            transform=normalize_by_last_unknown_price)\n",
        "\n",
        "# Init dataloader of the Dataset_train\n",
        "dataloader_train = DataLoader(dataset_train, config[\"dataset_train\"][\"batch_size\"], config[\"dataset_train\"][\"shuffle\"], drop_last=True)\n",
        "\n",
        "# Init of the Dataset_test\n",
        "dataset_test = StockPriceDataset(config[\"dataset_test\"][\"start_date\"], \n",
        "                            config[\"dataset_test\"][\"end_date\"],\n",
        "                            config[\"dataset_test\"][\"interval_date\"], \n",
        "                            config[\"dataset_test\"][\"nb_samples\"],\n",
        "                            transform=normalize_by_last_unknown_price)\n",
        "\n",
        "# Init dataloader of Dataset_test\n",
        "dataloader_test = DataLoader(dataset_test, config[\"dataset_test\"][\"batch_size\"], config[\"dataset_test\"][\"shuffle\"], drop_last=True)\n",
        "\n",
        "# Init of the model\n",
        "model = StockAI(config[\"model\"][\"input_size\"],\n",
        "                config[\"model\"][\"lstm_size\"],\n",
        "                config[\"model\"][\"num_layers\"],\n",
        "                config[\"model\"][\"keep_prob\"])\n",
        "\n",
        "model.to(device)\n",
        "\n",
        "# Learning rate to use along the epochs\n",
        "learning_rates = [config[\"learning\"][\"init_lr\"] * (config[\"learning\"][\"lr_decay\"] ** max(float(i + 1 - config[\"learning\"][\"init_epoch\"]), 0.0)) for i in range(config[\"learning\"][\"max_epoch\"])]\n",
        "\n",
        "# Loss\n",
        "loss_fn = MSELoss()\n",
        "optimizer = RMSprop(model.parameters(), lr=learning_rates[0], eps=1e-08)"
      ],
      "execution_count": null,
      "outputs": [
        {
          "output_type": "stream",
          "name": "stdout",
          "text": [
            "[*********************100%***********************]  1 of 1 completed\n",
            "[*********************100%***********************]  1 of 1 completed\n"
          ]
        },
        {
          "output_type": "stream",
          "name": "stderr",
          "text": [
            "/usr/local/lib/python3.7/dist-packages/torch/nn/modules/rnn.py:65: UserWarning: dropout option adds dropout after all but last recurrent layer, so non-zero dropout expects num_layers greater than 1, but got dropout=0.19999999999999996 and num_layers=1\n",
            "  \"num_layers={}\".format(dropout, num_layers))\n"
          ]
        }
      ]
    },
    {
      "cell_type": "code",
      "metadata": {
        "colab": {
          "base_uri": "https://localhost:8080/"
        },
        "id": "kzAMljJz7AQt",
        "outputId": "40f07b4a-13bd-450a-afbd-0b08d93f3f5f"
      },
      "source": [
        "len(dataloader_train)"
      ],
      "execution_count": null,
      "outputs": [
        {
          "output_type": "execute_result",
          "data": {
            "text/plain": [
              "61"
            ]
          },
          "metadata": {},
          "execution_count": 12
        }
      ]
    },
    {
      "cell_type": "code",
      "metadata": {
        "id": "TQt6ZwCR3Ale"
      },
      "source": [
        "# Learning\n",
        "for epoch_step in range(config[\"learning\"][\"max_epoch\"]):\n",
        "    lr = learning_rates[epoch_step]\n",
        "    print(f\"Running for epoch {epoch_step}...\")\n",
        "    for i_batch, batch in enumerate(dataloader_train):\n",
        "        x, y = batch\n",
        "        x = torch.unsqueeze(x, -1).float()\n",
        "        y = y.float()\n",
        "        x, y = x.to(device), y.to(device)\n",
        "        y_pred = model.forward(x)\n",
        "        loss = loss_fn(y_pred, y)\n",
        "        #loss = torch.autograd.Variable(loss_fn(y_pred, y), requires_grad=True)\n",
        "\n",
        "        if i_batch%10==0:\n",
        "            print(f\"step: {i_batch}, loss = {loss}\")\n",
        "\n",
        "        # Zero gradients, perform a backward pass, and update the weights.\n",
        "        optimizer.zero_grad()\n",
        "        loss.backward()\n",
        "        optimizer.step()"
      ],
      "execution_count": null,
      "outputs": []
    },
    {
      "cell_type": "code",
      "metadata": {
        "colab": {
          "base_uri": "https://localhost:8080/"
        },
        "id": "Y2naoTex3DFi",
        "outputId": "64f62a1a-cf6c-4178-d807-6eb90b636394"
      },
      "source": [
        "#test\n",
        "predictions = []\n",
        "runnning_mape = 0\n",
        "for i_batch, batch in enumerate(dataloader_test):\n",
        "        x, y = batch\n",
        "        x = torch.unsqueeze(x, -1).float()\n",
        "        y = y.float()\n",
        "        x, y = x.to(device), y.to(device)\n",
        "        y_pred = model.forward(x)\n",
        "        print(y_pred)\n",
        "        for pred in y_pred:\n",
        "          predictions.append(pred)\n",
        "\n",
        "        error = torch.mean(torch.abs((y - y_pred) / y))\n",
        "        runnning_mape += error\n",
        "\n",
        "mape = runnning_mape / len(dataloader_test)\n",
        "print(\"\",mape)"
      ],
      "execution_count": null,
      "outputs": [
        {
          "output_type": "stream",
          "name": "stdout",
          "text": [
            "tensor([[[1.0000],\n",
            "         [1.0000],\n",
            "         [1.0000],\n",
            "         [1.0000],\n",
            "         [1.0000],\n",
            "         [1.0000],\n",
            "         [1.0000],\n",
            "         [1.0000],\n",
            "         [1.0000],\n",
            "         [1.0000],\n",
            "         [1.0000],\n",
            "         [1.0000],\n",
            "         [1.0000],\n",
            "         [1.0000],\n",
            "         [1.0000],\n",
            "         [1.0000]]], device='cuda:0', grad_fn=<CudnnRnnBackward0>)\n",
            "tensor([[[1.0000],\n",
            "         [1.0000],\n",
            "         [1.0000],\n",
            "         [1.0000],\n",
            "         [1.0000],\n",
            "         [1.0000],\n",
            "         [1.0000],\n",
            "         [1.0000],\n",
            "         [1.0000],\n",
            "         [1.0000],\n",
            "         [1.0000],\n",
            "         [1.0000],\n",
            "         [1.0000],\n",
            "         [1.0000],\n",
            "         [1.0000],\n",
            "         [1.0000]]], device='cuda:0', grad_fn=<CudnnRnnBackward0>)\n",
            "tensor([[[1.0000],\n",
            "         [1.0000],\n",
            "         [1.0000],\n",
            "         [1.0000],\n",
            "         [1.0000],\n",
            "         [1.0000],\n",
            "         [1.0000],\n",
            "         [1.0000],\n",
            "         [1.0000],\n",
            "         [1.0000],\n",
            "         [1.0000],\n",
            "         [1.0000],\n",
            "         [1.0000],\n",
            "         [1.0000],\n",
            "         [1.0000],\n",
            "         [1.0000]]], device='cuda:0', grad_fn=<CudnnRnnBackward0>)\n",
            "tensor([[[1.0000],\n",
            "         [1.0000],\n",
            "         [1.0000],\n",
            "         [1.0000],\n",
            "         [1.0000],\n",
            "         [1.0000],\n",
            "         [1.0000],\n",
            "         [1.0000],\n",
            "         [1.0000],\n",
            "         [1.0000],\n",
            "         [1.0000],\n",
            "         [1.0000],\n",
            "         [1.0000],\n",
            "         [1.0000],\n",
            "         [1.0000],\n",
            "         [1.0000]]], device='cuda:0', grad_fn=<CudnnRnnBackward0>)\n",
            "tensor([[[1.0000],\n",
            "         [1.0000],\n",
            "         [1.0000],\n",
            "         [1.0000],\n",
            "         [1.0000],\n",
            "         [1.0000],\n",
            "         [1.0000],\n",
            "         [1.0000],\n",
            "         [1.0000],\n",
            "         [1.0000],\n",
            "         [1.0000],\n",
            "         [1.0000],\n",
            "         [1.0000],\n",
            "         [1.0000],\n",
            "         [1.0000],\n",
            "         [1.0000]]], device='cuda:0', grad_fn=<CudnnRnnBackward0>)\n",
            "tensor([[[1.0000],\n",
            "         [1.0000],\n",
            "         [1.0000],\n",
            "         [1.0000],\n",
            "         [1.0000],\n",
            "         [1.0000],\n",
            "         [1.0000],\n",
            "         [1.0000],\n",
            "         [1.0000],\n",
            "         [1.0000],\n",
            "         [1.0000],\n",
            "         [1.0000],\n",
            "         [1.0000],\n",
            "         [1.0000],\n",
            "         [1.0000],\n",
            "         [1.0000]]], device='cuda:0', grad_fn=<CudnnRnnBackward0>)\n",
            "tensor([[[1.0000],\n",
            "         [1.0000],\n",
            "         [1.0000],\n",
            "         [1.0000],\n",
            "         [1.0000],\n",
            "         [1.0000],\n",
            "         [1.0000],\n",
            "         [1.0000],\n",
            "         [1.0000],\n",
            "         [1.0000],\n",
            "         [1.0000],\n",
            "         [1.0000],\n",
            "         [1.0000],\n",
            "         [1.0000],\n",
            "         [1.0000],\n",
            "         [1.0000]]], device='cuda:0', grad_fn=<CudnnRnnBackward0>)\n",
            "tensor([[[1.0000],\n",
            "         [1.0000],\n",
            "         [1.0000],\n",
            "         [1.0000],\n",
            "         [1.0000],\n",
            "         [1.0000],\n",
            "         [1.0000],\n",
            "         [1.0000],\n",
            "         [1.0000],\n",
            "         [1.0000],\n",
            "         [1.0000],\n",
            "         [1.0000],\n",
            "         [1.0000],\n",
            "         [1.0000],\n",
            "         [1.0000],\n",
            "         [1.0000]]], device='cuda:0', grad_fn=<CudnnRnnBackward0>)\n",
            "tensor([[[1.0000],\n",
            "         [1.0000],\n",
            "         [1.0000],\n",
            "         [1.0000],\n",
            "         [1.0000],\n",
            "         [1.0000],\n",
            "         [1.0000],\n",
            "         [1.0000],\n",
            "         [1.0000],\n",
            "         [1.0000],\n",
            "         [1.0000],\n",
            "         [1.0000],\n",
            "         [1.0000],\n",
            "         [1.0000],\n",
            "         [1.0000],\n",
            "         [1.0000]]], device='cuda:0', grad_fn=<CudnnRnnBackward0>)\n",
            "tensor([[[1.0000],\n",
            "         [1.0000],\n",
            "         [1.0000],\n",
            "         [1.0000],\n",
            "         [1.0000],\n",
            "         [1.0000],\n",
            "         [1.0000],\n",
            "         [1.0000],\n",
            "         [1.0000],\n",
            "         [1.0000],\n",
            "         [1.0000],\n",
            "         [1.0000],\n",
            "         [1.0000],\n",
            "         [1.0000],\n",
            "         [1.0000],\n",
            "         [1.0000]]], device='cuda:0', grad_fn=<CudnnRnnBackward0>)\n",
            "tensor([[[1.0000],\n",
            "         [1.0000],\n",
            "         [1.0000],\n",
            "         [1.0000],\n",
            "         [1.0000],\n",
            "         [1.0000],\n",
            "         [1.0000],\n",
            "         [1.0000],\n",
            "         [1.0000],\n",
            "         [1.0000],\n",
            "         [1.0000],\n",
            "         [1.0000],\n",
            "         [1.0000],\n",
            "         [1.0000],\n",
            "         [1.0000],\n",
            "         [1.0000]]], device='cuda:0', grad_fn=<CudnnRnnBackward0>)\n",
            "tensor([[[1.0000],\n",
            "         [1.0000],\n",
            "         [1.0000],\n",
            "         [1.0000],\n",
            "         [1.0000],\n",
            "         [1.0000],\n",
            "         [1.0000],\n",
            "         [1.0000],\n",
            "         [1.0000],\n",
            "         [1.0000],\n",
            "         [1.0000],\n",
            "         [1.0000],\n",
            "         [1.0000],\n",
            "         [1.0000],\n",
            "         [1.0000],\n",
            "         [1.0000]]], device='cuda:0', grad_fn=<CudnnRnnBackward0>)\n",
            "tensor([[[1.0000],\n",
            "         [1.0000],\n",
            "         [1.0000],\n",
            "         [1.0000],\n",
            "         [1.0000],\n",
            "         [1.0000],\n",
            "         [1.0000],\n",
            "         [1.0000],\n",
            "         [1.0000],\n",
            "         [1.0000],\n",
            "         [1.0000],\n",
            "         [1.0000],\n",
            "         [1.0000],\n",
            "         [1.0000],\n",
            "         [1.0000],\n",
            "         [1.0000]]], device='cuda:0', grad_fn=<CudnnRnnBackward0>)\n",
            " tensor(0.0289, device='cuda:0', grad_fn=<DivBackward0>)\n"
          ]
        }
      ]
    },
    {
      "cell_type": "code",
      "source": [
        "data_train = dataset_train.data['Close']\n",
        "data_test = dataset_test.data['Close']\n",
        "\n",
        "train_days = len(data_train)\n",
        "test_days = len(data_test)\n",
        "\n",
        "x_train = [i for i in range(train_days)]\n",
        "y_train = [data_train[i] for i in range(train_days)]\n",
        "\n",
        "x_test = [i for i in range(train_days, train_days+test_days)]\n",
        "y_test = [data_test[i] for i in range(test_days)]\n",
        "\n",
        "plt.figure(figsize=(15, 7))\n",
        "\n",
        "plt.plot(x_train, y_train, color='b')\n",
        "plt.plot(x_test, y_test, color='g')\n",
        "\n",
        "plt.xlabel('Days')\n",
        "plt.ylabel('Price (USD)')\n",
        "plt.legend(['Training phase', 'Testing phase'])\n",
        "\n",
        "plt.show()"
      ],
      "metadata": {
        "colab": {
          "base_uri": "https://localhost:8080/",
          "height": 442
        },
        "id": "PyTmS2Oz7oNR",
        "outputId": "79b79ba8-4411-4c0c-afec-c596e42bf90c"
      },
      "execution_count": null,
      "outputs": [
        {
          "output_type": "display_data",
          "data": {
            "image/png": "[encoded data removed]",
            "text/plain": [
              "<Figure size 1080x504 with 1 Axes>"
            ]
          },
          "metadata": {
            "needs_background": "light"
          }
        }
      ]
    }
  ]
}