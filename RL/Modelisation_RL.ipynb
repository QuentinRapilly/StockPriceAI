{
  "nbformat": 4,
  "nbformat_minor": 0,
  "metadata": {
    "colab": {
      "name": "Modelisation_RL.ipynb",
      "provenance": [],
      "collapsed_sections": []
    },
    "kernelspec": {
      "name": "python3",
      "display_name": "Python 3"
    },
    "language_info": {
      "name": "python"
    }
  },
  "cells": [
    {
      "cell_type": "markdown",
      "source": [
        "## Stock Dataset"
      ],
      "metadata": {
        "id": "pTXp_Gr77ic4"
      }
    },
    {
      "cell_type": "code",
      "source": [
        "!pip install yfinance\n",
        "!pip install mpld3"
      ],
      "metadata": {
        "colab": {
          "base_uri": "https://localhost:8080/"
        },
        "id": "UCO95ZwJ8Iqo",
        "outputId": "c15f8b1a-df9f-4322-9486-9c11fa9bd349"
      },
      "execution_count": null,
      "outputs": [
        {
          "output_type": "stream",
          "name": "stdout",
          "text": [
            "Collecting yfinance\n",
            "  Downloading yfinance-0.1.68-py2.py3-none-any.whl (26 kB)\n",
            "Requirement already satisfied: pandas>=0.24 in /usr/local/lib/python3.7/dist-packages (from yfinance) (1.1.5)\n",
            "Collecting lxml>=4.5.1\n",
            "  Downloading lxml-4.7.1-cp37-cp37m-manylinux_2_17_x86_64.manylinux2014_x86_64.manylinux_2_24_x86_64.whl (6.4 MB)\n",
            "\u001b[K     |████████████████████████████████| 6.4 MB 7.1 MB/s \n",
            "\u001b[?25hRequirement already satisfied: multitasking>=0.0.7 in /usr/local/lib/python3.7/dist-packages (from yfinance) (0.0.10)\n",
            "Requirement already satisfied: numpy>=1.15 in /usr/local/lib/python3.7/dist-packages (from yfinance) (1.19.5)\n",
            "Collecting requests>=2.26\n",
            "  Downloading requests-2.26.0-py2.py3-none-any.whl (62 kB)\n",
            "\u001b[K     |████████████████████████████████| 62 kB 792 kB/s \n",
            "\u001b[?25hRequirement already satisfied: python-dateutil>=2.7.3 in /usr/local/lib/python3.7/dist-packages (from pandas>=0.24->yfinance) (2.8.2)\n",
            "Requirement already satisfied: pytz>=2017.2 in /usr/local/lib/python3.7/dist-packages (from pandas>=0.24->yfinance) (2018.9)\n",
            "Requirement already satisfied: six>=1.5 in /usr/local/lib/python3.7/dist-packages (from python-dateutil>=2.7.3->pandas>=0.24->yfinance) (1.15.0)\n",
            "Requirement already satisfied: charset-normalizer~=2.0.0 in /usr/local/lib/python3.7/dist-packages (from requests>=2.26->yfinance) (2.0.8)\n",
            "Requirement already satisfied: certifi>=2017.4.17 in /usr/local/lib/python3.7/dist-packages (from requests>=2.26->yfinance) (2021.10.8)\n",
            "Requirement already satisfied: urllib3<1.27,>=1.21.1 in /usr/local/lib/python3.7/dist-packages (from requests>=2.26->yfinance) (1.24.3)\n",
            "Requirement already satisfied: idna<4,>=2.5 in /usr/local/lib/python3.7/dist-packages (from requests>=2.26->yfinance) (2.10)\n",
            "Installing collected packages: requests, lxml, yfinance\n",
            "  Attempting uninstall: requests\n",
            "    Found existing installation: requests 2.23.0\n",
            "    Uninstalling requests-2.23.0:\n",
            "      Successfully uninstalled requests-2.23.0\n",
            "  Attempting uninstall: lxml\n",
            "    Found existing installation: lxml 4.2.6\n",
            "    Uninstalling lxml-4.2.6:\n",
            "      Successfully uninstalled lxml-4.2.6\n",
            "\u001b[31mERROR: pip's dependency resolver does not currently take into account all the packages that are installed. This behaviour is the source of the following dependency conflicts.\n",
            "google-colab 1.0.0 requires requests~=2.23.0, but you have requests 2.26.0 which is incompatible.\n",
            "datascience 0.10.6 requires folium==0.2.1, but you have folium 0.8.3 which is incompatible.\u001b[0m\n",
            "Successfully installed lxml-4.7.1 requests-2.26.0 yfinance-0.1.68\n",
            "Collecting mpld3\n",
            "  Downloading mpld3-0.5.7-py3-none-any.whl (201 kB)\n",
            "\u001b[K     |████████████████████████████████| 201 kB 5.0 MB/s \n",
            "\u001b[?25hRequirement already satisfied: matplotlib in /usr/local/lib/python3.7/dist-packages (from mpld3) (3.2.2)\n",
            "Requirement already satisfied: jinja2 in /usr/local/lib/python3.7/dist-packages (from mpld3) (2.11.3)\n",
            "Requirement already satisfied: MarkupSafe>=0.23 in /usr/local/lib/python3.7/dist-packages (from jinja2->mpld3) (2.0.1)\n",
            "Requirement already satisfied: pyparsing!=2.0.4,!=2.1.2,!=2.1.6,>=2.0.1 in /usr/local/lib/python3.7/dist-packages (from matplotlib->mpld3) (3.0.6)\n",
            "Requirement already satisfied: cycler>=0.10 in /usr/local/lib/python3.7/dist-packages (from matplotlib->mpld3) (0.11.0)\n",
            "Requirement already satisfied: numpy>=1.11 in /usr/local/lib/python3.7/dist-packages (from matplotlib->mpld3) (1.19.5)\n",
            "Requirement already satisfied: python-dateutil>=2.1 in /usr/local/lib/python3.7/dist-packages (from matplotlib->mpld3) (2.8.2)\n",
            "Requirement already satisfied: kiwisolver>=1.0.1 in /usr/local/lib/python3.7/dist-packages (from matplotlib->mpld3) (1.3.2)\n",
            "Requirement already satisfied: six>=1.5 in /usr/local/lib/python3.7/dist-packages (from python-dateutil>=2.1->matplotlib->mpld3) (1.15.0)\n",
            "Installing collected packages: mpld3\n",
            "Successfully installed mpld3-0.5.7\n"
          ]
        }
      ]
    },
    {
      "cell_type": "code",
      "source": [
        "from torch.utils.data import Dataset, DataLoader\n",
        "from typing import Union\n",
        "import matplotlib.pyplot as plt\n",
        "import mpld3\n",
        "from mpld3 import plugins\n",
        "import torch\n",
        "from torch.nn import MSELoss\n",
        "from torch.optim import RMSprop\n",
        "import yfinance as yf\n",
        "import pandas as pd\n",
        "import numpy as np\n",
        "import os\n",
        "import math"
      ],
      "metadata": {
        "id": "0bAFjDo87hRv"
      },
      "execution_count": null,
      "outputs": []
    },
    {
      "cell_type": "code",
      "source": [
        "class StockPriceDataset(Dataset):\n",
        "    def __init__(self, start_date: str=\"jj-mm-aaaa\", end_date: str=\"jj-mm-aaaa\", \n",
        "                 interval: int=1, nb_samples: int=20, transform=None,\n",
        "                 file_dir: str=\"data/\", csv_file: str=None):\n",
        "\n",
        "        # If a local data file must be loaded:\n",
        "        if csv_file is not None:\n",
        "            self.root_dir = file_dir\n",
        "            self.filename = csv_file\n",
        "            with open(os.path.join(file_dir,csv_file), 'r') as file:\n",
        "                dataset = pd.read_csv(file, sep=',', header='infer')\n",
        "\n",
        "        else: # Data must be loaded on an online database:\n",
        "            dataset = yf.download('^GSPC', start=start_date, end=end_date, interval=interval)\n",
        "\n",
        "        self.data = dataset\n",
        "        self.nb_samples = nb_samples\n",
        "        self.transform = transform\n",
        "\n",
        "    def __len__(self) -> int:\n",
        "        return len(self.data) - self.nb_samples\n",
        "\n",
        "    def __getitem__(self, index, overlapping=True) -> Union[torch.Tensor, float]:\n",
        "        # Load one sample more than nb_samples for normalizing, transform\n",
        "        if overlapping:\n",
        "          sample = self.data['Close'][index:index+self.nb_samples+2]\n",
        "        else:\n",
        "          sample = self.data['Close'][index*self.nb_samples:(index+1)*self.nb_samples+2]\n",
        "        sample = torch.tensor(sample)\n",
        "        if self.transform:\n",
        "            sample = self.transform(sample)[1:]\n",
        "        else:\n",
        "            sample = sample[1:]\n",
        "        \n",
        "        label = sample[-1] # label is the last elem of sample\n",
        "        sample = sample[:-1] # removes label from sample\n",
        "        return sample, label\n",
        "      \n",
        "    def get_normalization_value(self, index):\n",
        "        # Retrieve the normalization value from the last sample\n",
        "        return self.data['Close'][index]\n",
        "\n",
        "\n",
        "def normalize_by_last_unknown_price(sample: torch.Tensor) -> torch.Tensor:\n",
        "    \"\"\"Divides the whole stock price sample by the last unknown price w_{p*t-1}\"\"\"\n",
        "    last_price = sample[0] # w_{pt-1}\n",
        "    return sample/last_price"
      ],
      "metadata": {
        "id": "cXNyNe6g71VK"
      },
      "execution_count": null,
      "outputs": []
    },
    {
      "cell_type": "code",
      "source": [
        "VISUALIZE_DATASET = True\n",
        "if VISUALIZE_DATASET:\n",
        "  dataset = StockPriceDataset(start_date='1950-01-03', \n",
        "                              end_date='2008-11-16',\n",
        "                              interval='1d',\n",
        "                              nb_samples=15,\n",
        "                              transform=normalize_by_last_unknown_price)\n",
        "\n",
        "  print(\"head of the dataset =\", dataset.data.head()['Close'])\n",
        "\n",
        "  print(\"\\n Plot of the 'Close' data :\")\n",
        "  dataset.data.plot(None, ['Close'])\n",
        "\n",
        "  print(\"len dataset =\", len(dataset))"
      ],
      "metadata": {
        "colab": {
          "base_uri": "https://localhost:8080/",
          "height": 460
        },
        "id": "qY4FB4f171Gn",
        "outputId": "c860cd61-f187-44fc-90e3-255965e78c86"
      },
      "execution_count": null,
      "outputs": [
        {
          "output_type": "stream",
          "name": "stdout",
          "text": [
            "\r[*********************100%***********************]  1 of 1 completed\n",
            "head of the dataset = Date\n",
            "1950-01-03    16.66\n",
            "1950-01-04    16.85\n",
            "1950-01-05    16.93\n",
            "1950-01-06    16.98\n",
            "1950-01-09    17.08\n",
            "Name: Close, dtype: float64\n",
            "\n",
            " Plot of the 'Close' data :\n",
            "len dataset = 14799\n"
          ]
        },
        {
          "output_type": "display_data",
          "data": {
            "image/png": "[encoded data removed]",
            "text/plain": [
              "<Figure size 432x288 with 1 Axes>"
            ]
          },
          "metadata": {
            "needs_background": "light"
          }
        }
      ]
    },
    {
      "cell_type": "markdown",
      "source": [
        "## Envirement "
      ],
      "metadata": {
        "id": "idFoCyL9IhRy"
      }
    },
    {
      "cell_type": "code",
      "execution_count": null,
      "metadata": {
        "id": "Gie11llzzUpI"
      },
      "outputs": [],
      "source": [
        "class Envirement : \n",
        "  def __init__(self):\n",
        "      self.dataset = StockPriceDataset(start_date='1950-01-03', \n",
        "                              end_date='2008-11-16',\n",
        "                              interval='1d',\n",
        "                              nb_samples=15)\n",
        "      \n",
        "  def reset(self): \n",
        "    self.compteur = 0\n",
        "    self.date = np.random.randint(len(self.dataset)) #date à partir de laquelle va commencer notre simulation\n",
        "    observation,_ = self.dataset[self.date] #les 15 jours précedents présentent notre observation\n",
        "    return observation\n",
        "\n",
        "\n",
        "  def step(self,action): \n",
        "    obs, actuel = self.dataset[self.date]\n",
        "    reward = 0\n",
        "    if action == 0:  #ne pas vendre \n",
        "      if actuel - obs[-1] <= 0:\n",
        "        reward = 1 \n",
        "      else : \n",
        "        reward = -1\n",
        "    elif action == 1:  #vendre \n",
        "      if actuel - obs[-1] <= 0:\n",
        "        reward = -1 \n",
        "      else : \n",
        "        reward = 1\n",
        "    self.date += 1\n",
        "    observation,_ = self.dataset[self.date]\n",
        "    self.compteur += 1\n",
        "    done = self.compteur >= 100\n",
        "    info = dict()\n",
        "    return observation, reward, done, info"
      ]
    },
    {
      "cell_type": "markdown",
      "source": [
        "## Test"
      ],
      "metadata": {
        "id": "PkjUmjoEIVRG"
      }
    },
    {
      "cell_type": "code",
      "source": [
        "env = Envirement()\n",
        "env.reset() #initialisation de l'env\n",
        "reward_tot = 0\n",
        "for _ in range(100):\n",
        "  action = np.random.randint(0,2)\n",
        "  observation, reward, done, info = env.step(action)\n",
        "  reward_tot += reward\n",
        "print(reward_tot)"
      ],
      "metadata": {
        "colab": {
          "base_uri": "https://localhost:8080/"
        },
        "id": "Flz9ImuVHOSy",
        "outputId": "3fa44b55-4f89-4a2b-909a-073c1f363be8"
      },
      "execution_count": null,
      "outputs": [
        {
          "output_type": "stream",
          "name": "stdout",
          "text": [
            "\r[*********************100%***********************]  1 of 1 completed\n",
            "-12\n"
          ]
        }
      ]
    },
    {
      "cell_type": "markdown",
      "source": [
        "## Q learning"
      ],
      "metadata": {
        "id": "sx_mWRKNKzjw"
      }
    },
    {
      "cell_type": "code",
      "source": [
        "from torch.nn import LSTM, Module, Dropout, ModuleList, Sigmoid"
      ],
      "metadata": {
        "id": "obN3GTXBBHFH"
      },
      "execution_count": null,
      "outputs": []
    },
    {
      "cell_type": "code",
      "source": [
        "class StockAI(Module):\n",
        "     \n",
        "    def __init__(self, input_size, lstm_size, num_layers, keep_prob) -> None:\n",
        "        super().__init__()\n",
        "        self.input_size = input_size\n",
        "        self.lstm_size = lstm_size\n",
        "        self.num_layers = num_layers\n",
        "        self.lstm = LSTM(self.input_size, hidden_size=self.lstm_size, num_layers=self.num_layers,dropout=1-keep_prob, batch_first=True, proj_size=1)\n",
        "        self.ac = Sigmoid()\n",
        "    def forward(self,x):\n",
        "        a, b = self.lstm(x)\n",
        "        return self.ac(b[0])"
      ],
      "metadata": {
        "id": "SdscQjlfLKKU"
      },
      "execution_count": null,
      "outputs": []
    },
    {
      "cell_type": "code",
      "source": [
        "observation = env.reset()\n",
        "print(observation)"
      ],
      "metadata": {
        "colab": {
          "base_uri": "https://localhost:8080/"
        },
        "id": "YkFjToC8M0-m",
        "outputId": "bb238ec5-2b8e-4fea-a3b9-ba8656f5258f"
      },
      "execution_count": null,
      "outputs": [
        {
          "output_type": "stream",
          "name": "stdout",
          "text": [
            "tensor([107.4200, 107.5200, 108.2500, 108.0900, 108.3000, 108.8300, 108.9100,\n",
            "        108.9900, 108.6300, 108.6000, 109.1400, 109.0200, 109.0200, 109.0200,\n",
            "        109.3200], dtype=torch.float64)\n"
          ]
        }
      ]
    },
    {
      "cell_type": "code",
      "source": [
        "# Init of the model\n",
        "model = StockAI(1,128,1,0.8)"
      ],
      "metadata": {
        "colab": {
          "base_uri": "https://localhost:8080/"
        },
        "id": "8L9GdhgBLrER",
        "outputId": "6564aaf4-c859-4eb0-9c06-cc706d1bf07f"
      },
      "execution_count": null,
      "outputs": [
        {
          "output_type": "stream",
          "name": "stderr",
          "text": [
            "/usr/local/lib/python3.7/dist-packages/torch/nn/modules/rnn.py:65: UserWarning: dropout option adds dropout after all but last recurrent layer, so non-zero dropout expects num_layers greater than 1, but got dropout=0.19999999999999996 and num_layers=1\n",
            "  \"num_layers={}\".format(dropout, num_layers))\n"
          ]
        }
      ]
    },
    {
      "cell_type": "code",
      "source": [
        "x = torch.unsqueeze(torch.unsqueeze(observation, 0), -1).float()\n",
        "y = model(x)\n",
        "action = 0 if y[0,0,0] < 0.5 else 1\n",
        "print(action)"
      ],
      "metadata": {
        "colab": {
          "base_uri": "https://localhost:8080/"
        },
        "id": "lGaGCb27M-DH",
        "outputId": "0ccfbca8-f0e9-4a8a-f931-7c2fe60912be"
      },
      "execution_count": null,
      "outputs": [
        {
          "output_type": "stream",
          "name": "stdout",
          "text": [
            "1\n"
          ]
        }
      ]
    },
    {
      "cell_type": "code",
      "source": [
        "#number of episode we will run\n",
        "n_episodes = 100\n",
        "\n",
        "#maximum of iteration per episode\n",
        "max_iter_episode = 100\n",
        "\n",
        "#initialize the exploration probability to 1\n",
        "exploration_proba = 1\n",
        "\n",
        "#exploartion decreasing decay for exponential decreasing\n",
        "exploration_decreasing_decay = 0.001\n",
        "\n",
        "# minimum of exploration proba\n",
        "min_exploration_proba = 0.01\n",
        "\n",
        "#discounted factor\n",
        "gamma = 0.99\n",
        "\n",
        "#learning rate\n",
        "lr = 0.1"
      ],
      "metadata": {
        "id": "80sTpMg7h-fK"
      },
      "execution_count": null,
      "outputs": []
    },
    {
      "cell_type": "code",
      "source": [
        "replay_memory = list()"
      ],
      "metadata": {
        "id": "hsCWCNsTlQni"
      },
      "execution_count": null,
      "outputs": []
    },
    {
      "cell_type": "code",
      "source": [
        ""
      ],
      "metadata": {
        "id": "k_Sfgj7lnfHw"
      },
      "execution_count": null,
      "outputs": []
    }
  ]
}