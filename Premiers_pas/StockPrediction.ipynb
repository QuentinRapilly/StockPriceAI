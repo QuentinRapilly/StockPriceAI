{
  "nbformat": 4,
  "nbformat_minor": 0,
  "metadata": {
    "colab": {
      "name": "StockPrediction.ipynb",
      "provenance": [],
      "collapsed_sections": []
    },
    "kernelspec": {
      "name": "python3",
      "display_name": "Python 3"
    },
    "language_info": {
      "name": "python"
    }
  },
  "cells": [
    {
      "cell_type": "markdown",
      "metadata": {
        "id": "xPVuk_zD8gux"
      },
      "source": [
        "# RNN and RL predict stock prices\n",
        "\n",
        "This project is conducted under the scope of IA321 course at ENSTA Paris."
      ]
    },
    {
      "cell_type": "markdown",
      "metadata": {
        "id": "a8Qe_7T8Fi18"
      },
      "source": [
        "## Install yfinance"
      ]
    },
    {
      "cell_type": "code",
      "metadata": {
        "colab": {
          "base_uri": "https://localhost:8080/",
          "height": 506
        },
        "id": "FgEGD0Vp_S9d",
        "outputId": "46048eca-c69d-40cc-8330-7c51b8a73dc6"
      },
      "source": [
        "!pip install yfinance"
      ],
      "execution_count": 7,
      "outputs": [
        {
          "output_type": "stream",
          "name": "stdout",
          "text": [
            "Collecting yfinance\n",
            "  Downloading yfinance-0.1.66-py2.py3-none-any.whl (25 kB)\n",
            "Requirement already satisfied: pandas>=0.24 in /usr/local/lib/python3.7/dist-packages (from yfinance) (1.1.5)\n",
            "Requirement already satisfied: numpy>=1.15 in /usr/local/lib/python3.7/dist-packages (from yfinance) (1.19.5)\n",
            "Collecting lxml>=4.5.1\n",
            "  Downloading lxml-4.6.4-cp37-cp37m-manylinux_2_17_x86_64.manylinux2014_x86_64.manylinux_2_24_x86_64.whl (6.3 MB)\n",
            "\u001b[K     |████████████████████████████████| 6.3 MB 19.8 MB/s \n",
            "\u001b[?25hRequirement already satisfied: requests>=2.20 in /usr/local/lib/python3.7/dist-packages (from yfinance) (2.23.0)\n",
            "Requirement already satisfied: multitasking>=0.0.7 in /usr/local/lib/python3.7/dist-packages (from yfinance) (0.0.9)\n",
            "Requirement already satisfied: python-dateutil>=2.7.3 in /usr/local/lib/python3.7/dist-packages (from pandas>=0.24->yfinance) (2.8.2)\n",
            "Requirement already satisfied: pytz>=2017.2 in /usr/local/lib/python3.7/dist-packages (from pandas>=0.24->yfinance) (2018.9)\n",
            "Requirement already satisfied: six>=1.5 in /usr/local/lib/python3.7/dist-packages (from python-dateutil>=2.7.3->pandas>=0.24->yfinance) (1.15.0)\n",
            "Requirement already satisfied: urllib3!=1.25.0,!=1.25.1,<1.26,>=1.21.1 in /usr/local/lib/python3.7/dist-packages (from requests>=2.20->yfinance) (1.24.3)\n",
            "Requirement already satisfied: certifi>=2017.4.17 in /usr/local/lib/python3.7/dist-packages (from requests>=2.20->yfinance) (2021.10.8)\n",
            "Requirement already satisfied: idna<3,>=2.5 in /usr/local/lib/python3.7/dist-packages (from requests>=2.20->yfinance) (2.10)\n",
            "Requirement already satisfied: chardet<4,>=3.0.2 in /usr/local/lib/python3.7/dist-packages (from requests>=2.20->yfinance) (3.0.4)\n",
            "Installing collected packages: lxml, yfinance\n",
            "  Attempting uninstall: lxml\n",
            "    Found existing installation: lxml 4.2.6\n",
            "    Uninstalling lxml-4.2.6:\n",
            "      Successfully uninstalled lxml-4.2.6\n",
            "Successfully installed lxml-4.6.4 yfinance-0.1.66\n"
          ]
        },
        {
          "output_type": "display_data",
          "data": {
            "application/vnd.colab-display-data+json": {
              "pip_warning": {
                "packages": [
                  "lxml"
                ]
              }
            }
          },
          "metadata": {}
        }
      ]
    },
    {
      "cell_type": "markdown",
      "metadata": {
        "id": "0eNgPa02C_Ac"
      },
      "source": [
        "## Import Libraries"
      ]
    },
    {
      "cell_type": "code",
      "metadata": {
        "id": "ET8Tcxic92cU"
      },
      "source": [
        "%matplotlib inline\n",
        "\n",
        "import pandas as pd\n",
        "import numpy as np\n",
        "import yfinance as yf\n",
        "\n",
        "from matplotlib import pyplot as plt"
      ],
      "execution_count": 38,
      "outputs": []
    },
    {
      "cell_type": "markdown",
      "metadata": {
        "id": "JRje7A7YDBoi"
      },
      "source": [
        "## Data Extraction and Visualization"
      ]
    },
    {
      "cell_type": "code",
      "metadata": {
        "colab": {
          "base_uri": "https://localhost:8080/",
          "height": 472
        },
        "id": "Mthk4RAZ9_kS",
        "outputId": "c63440a6-5428-4e5b-d317-4bdedd3f71fe"
      },
      "source": [
        "# download S&P data from yahoo finance\n",
        "START_DATE = '1950-01-03'\n",
        "END_DATE = '2021-11-16'\n",
        "INTERVAL = '1d'\n",
        "df = yf.download('^GSPC', start=START_DATE, end=END_DATE, interval=INTERVAL)\n",
        "df"
      ],
      "execution_count": 31,
      "outputs": [
        {
          "output_type": "stream",
          "name": "stdout",
          "text": [
            "\r[*********************100%***********************]  1 of 1 completed\n"
          ]
        },
        {
          "output_type": "execute_result",
          "data": {
            "text/html": [
              "<div>\n",
              "<style scoped>\n",
              "    .dataframe tbody tr th:only-of-type {\n",
              "        vertical-align: middle;\n",
              "    }\n",
              "\n",
              "    .dataframe tbody tr th {\n",
              "        vertical-align: top;\n",
              "    }\n",
              "\n",
              "    .dataframe thead th {\n",
              "        text-align: right;\n",
              "    }\n",
              "</style>\n",
              "<table border=\"1\" class=\"dataframe\">\n",
              "  <thead>\n",
              "    <tr style=\"text-align: right;\">\n",
              "      <th></th>\n",
              "      <th>Open</th>\n",
              "      <th>High</th>\n",
              "      <th>Low</th>\n",
              "      <th>Close</th>\n",
              "      <th>Adj Close</th>\n",
              "      <th>Volume</th>\n",
              "    </tr>\n",
              "    <tr>\n",
              "      <th>Date</th>\n",
              "      <th></th>\n",
              "      <th></th>\n",
              "      <th></th>\n",
              "      <th></th>\n",
              "      <th></th>\n",
              "      <th></th>\n",
              "    </tr>\n",
              "  </thead>\n",
              "  <tbody>\n",
              "    <tr>\n",
              "      <th>1950-01-03</th>\n",
              "      <td>16.660000</td>\n",
              "      <td>16.660000</td>\n",
              "      <td>16.660000</td>\n",
              "      <td>16.660000</td>\n",
              "      <td>16.660000</td>\n",
              "      <td>1260000</td>\n",
              "    </tr>\n",
              "    <tr>\n",
              "      <th>1950-01-04</th>\n",
              "      <td>16.850000</td>\n",
              "      <td>16.850000</td>\n",
              "      <td>16.850000</td>\n",
              "      <td>16.850000</td>\n",
              "      <td>16.850000</td>\n",
              "      <td>1890000</td>\n",
              "    </tr>\n",
              "    <tr>\n",
              "      <th>1950-01-05</th>\n",
              "      <td>16.930000</td>\n",
              "      <td>16.930000</td>\n",
              "      <td>16.930000</td>\n",
              "      <td>16.930000</td>\n",
              "      <td>16.930000</td>\n",
              "      <td>2550000</td>\n",
              "    </tr>\n",
              "    <tr>\n",
              "      <th>1950-01-06</th>\n",
              "      <td>16.980000</td>\n",
              "      <td>16.980000</td>\n",
              "      <td>16.980000</td>\n",
              "      <td>16.980000</td>\n",
              "      <td>16.980000</td>\n",
              "      <td>2010000</td>\n",
              "    </tr>\n",
              "    <tr>\n",
              "      <th>1950-01-09</th>\n",
              "      <td>17.080000</td>\n",
              "      <td>17.080000</td>\n",
              "      <td>17.080000</td>\n",
              "      <td>17.080000</td>\n",
              "      <td>17.080000</td>\n",
              "      <td>2520000</td>\n",
              "    </tr>\n",
              "    <tr>\n",
              "      <th>...</th>\n",
              "      <td>...</td>\n",
              "      <td>...</td>\n",
              "      <td>...</td>\n",
              "      <td>...</td>\n",
              "      <td>...</td>\n",
              "      <td>...</td>\n",
              "    </tr>\n",
              "    <tr>\n",
              "      <th>2021-11-09</th>\n",
              "      <td>4707.250000</td>\n",
              "      <td>4708.529785</td>\n",
              "      <td>4670.870117</td>\n",
              "      <td>4685.250000</td>\n",
              "      <td>4685.250000</td>\n",
              "      <td>3110230000</td>\n",
              "    </tr>\n",
              "    <tr>\n",
              "      <th>2021-11-10</th>\n",
              "      <td>4670.259766</td>\n",
              "      <td>4684.850098</td>\n",
              "      <td>4630.859863</td>\n",
              "      <td>4646.709961</td>\n",
              "      <td>4646.709961</td>\n",
              "      <td>3581630000</td>\n",
              "    </tr>\n",
              "    <tr>\n",
              "      <th>2021-11-11</th>\n",
              "      <td>4659.390137</td>\n",
              "      <td>4664.549805</td>\n",
              "      <td>4648.310059</td>\n",
              "      <td>4649.270020</td>\n",
              "      <td>4649.270020</td>\n",
              "      <td>2623140000</td>\n",
              "    </tr>\n",
              "    <tr>\n",
              "      <th>2021-11-12</th>\n",
              "      <td>4655.240234</td>\n",
              "      <td>4688.470215</td>\n",
              "      <td>4650.770020</td>\n",
              "      <td>4682.850098</td>\n",
              "      <td>4682.850098</td>\n",
              "      <td>2865790000</td>\n",
              "    </tr>\n",
              "    <tr>\n",
              "      <th>2021-11-15</th>\n",
              "      <td>4689.299805</td>\n",
              "      <td>4697.419922</td>\n",
              "      <td>4672.859863</td>\n",
              "      <td>4682.799805</td>\n",
              "      <td>4682.799805</td>\n",
              "      <td>2618980000</td>\n",
              "    </tr>\n",
              "  </tbody>\n",
              "</table>\n",
              "<p>18086 rows × 6 columns</p>\n",
              "</div>"
            ],
            "text/plain": [
              "                   Open         High  ...    Adj Close      Volume\n",
              "Date                                  ...                         \n",
              "1950-01-03    16.660000    16.660000  ...    16.660000     1260000\n",
              "1950-01-04    16.850000    16.850000  ...    16.850000     1890000\n",
              "1950-01-05    16.930000    16.930000  ...    16.930000     2550000\n",
              "1950-01-06    16.980000    16.980000  ...    16.980000     2010000\n",
              "1950-01-09    17.080000    17.080000  ...    17.080000     2520000\n",
              "...                 ...          ...  ...          ...         ...\n",
              "2021-11-09  4707.250000  4708.529785  ...  4685.250000  3110230000\n",
              "2021-11-10  4670.259766  4684.850098  ...  4646.709961  3581630000\n",
              "2021-11-11  4659.390137  4664.549805  ...  4649.270020  2623140000\n",
              "2021-11-12  4655.240234  4688.470215  ...  4682.850098  2865790000\n",
              "2021-11-15  4689.299805  4697.419922  ...  4682.799805  2618980000\n",
              "\n",
              "[18086 rows x 6 columns]"
            ]
          },
          "metadata": {},
          "execution_count": 31
        }
      ]
    },
    {
      "cell_type": "code",
      "metadata": {
        "colab": {
          "base_uri": "https://localhost:8080/"
        },
        "id": "Rq4bJoA1_xST",
        "outputId": "4c6cabb3-c21a-401f-82b6-fa2bcaa379ba"
      },
      "source": [
        "# only keep the closing price of each day\n",
        "data = df['Close']\n",
        "data.head()"
      ],
      "execution_count": 32,
      "outputs": [
        {
          "output_type": "execute_result",
          "data": {
            "text/plain": [
              "Date\n",
              "1950-01-03    16.66\n",
              "1950-01-04    16.85\n",
              "1950-01-05    16.93\n",
              "1950-01-06    16.98\n",
              "1950-01-09    17.08\n",
              "Name: Close, dtype: float64"
            ]
          },
          "metadata": {},
          "execution_count": 32
        }
      ]
    },
    {
      "cell_type": "code",
      "metadata": {
        "colab": {
          "base_uri": "https://localhost:8080/"
        },
        "id": "EFM1tFw9ADLy",
        "outputId": "64d77cd2-9a37-4461-f5d0-d68dd1d36493"
      },
      "source": [
        "data.describe()"
      ],
      "execution_count": 33,
      "outputs": [
        {
          "output_type": "execute_result",
          "data": {
            "text/plain": [
              "count    18086.000000\n",
              "mean       682.858297\n",
              "std        874.772330\n",
              "min         16.660000\n",
              "25%         87.242498\n",
              "50%        207.809998\n",
              "75%       1154.667542\n",
              "max       4701.700195\n",
              "Name: Close, dtype: float64"
            ]
          },
          "metadata": {},
          "execution_count": 33
        }
      ]
    },
    {
      "cell_type": "code",
      "metadata": {
        "colab": {
          "base_uri": "https://localhost:8080/",
          "height": 442
        },
        "id": "Bte-syHgDN4m",
        "outputId": "bd342a28-e5a2-4802-d444-e6b28cf401aa"
      },
      "source": [
        "# plot all S&P 500 values\n",
        "x = [i for i in range(len(data))]\n",
        "y = [data[i] for i in range(len(data))]\n",
        "\n",
        "plt.figure(figsize=(15,7))\n",
        "\n",
        "plt.plot(x, y)\n",
        "plt.xlabel('Days')\n",
        "plt.ylabel('Price (USD)')\n",
        "plt.legend(['S&P 500'])\n",
        "\n",
        "plt.show()"
      ],
      "execution_count": 71,
      "outputs": [
        {
          "output_type": "display_data",
          "data": {
            "image/png": "[encoded data removed]",
            "text/plain": [
              "<Figure size 1080x504 with 1 Axes>"
            ]
          },
          "metadata": {
            "needs_background": "light"
          }
        }
      ]
    },
    {
      "cell_type": "markdown",
      "metadata": {
        "id": "n5B2bYWbGfTF"
      },
      "source": [
        "## RNN Configuration"
      ]
    },
    {
      "cell_type": "code",
      "metadata": {
        "id": "KBUz7RT0GhsL"
      },
      "source": [
        "# Configuration is wrapped in one object for easy tracking and passing.\n",
        "class RNNConfig():\n",
        "    input_size=1 # nb of examples per window\n",
        "    num_steps=30 # nb of unfolded layers\n",
        "    lstm_size=128\n",
        "    num_layers=1\n",
        "    keep_prob=0.8\n",
        "    batch_size = 64\n",
        "    init_learning_rate = 0.001\n",
        "    learning_rate_decay = 0.99\n",
        "    init_epoch = 5 # nb of epochs where learning rate stays init_learning_rate\n",
        "    max_epoch = 50\n",
        "\n",
        "config = RNNConfig()"
      ],
      "execution_count": 49,
      "outputs": []
    },
    {
      "cell_type": "markdown",
      "metadata": {
        "id": "3FK4iZOpGjer"
      },
      "source": [
        "## Preprocessing Data"
      ]
    },
    {
      "cell_type": "code",
      "metadata": {
        "colab": {
          "base_uri": "https://localhost:8080/"
        },
        "id": "_VOgwSz-K--l",
        "outputId": "0da6a292-a694-4ba8-f178-843e3dcb441c"
      },
      "source": [
        "# Normalization : we now study the change in the index not its value\n",
        "norm_data = []\n",
        "for i in range(len(data)-1):\n",
        "  norm_data.append(data[i+1]/data[i])\n",
        "\n",
        "print(\"Size of normalized data : \", len(norm_data))"
      ],
      "execution_count": 64,
      "outputs": [
        {
          "output_type": "stream",
          "name": "stdout",
          "text": [
            "Size of normalized data :  18085\n"
          ]
        }
      ]
    },
    {
      "cell_type": "code",
      "metadata": {
        "colab": {
          "base_uri": "https://localhost:8080/",
          "height": 442
        },
        "id": "fECNwBJ5L0kv",
        "outputId": "e457b121-f6f3-4ef6-dfcf-6e4e6ad6d618"
      },
      "source": [
        "# plot all normalized S&P 500 values\n",
        "x = [i for i in range(len(norm_data))]\n",
        "y = [norm_data[i] for i in range(len(norm_data))]\n",
        "\n",
        "plt.figure(figsize=(15,7))\n",
        "\n",
        "plt.plot(x, y)\n",
        "plt.xlabel('Days')\n",
        "plt.ylabel('Price (USD)')\n",
        "plt.legend(['Normalized S&P 500'])\n",
        "\n",
        "plt.show()"
      ],
      "execution_count": 72,
      "outputs": [
        {
          "output_type": "display_data",
          "data": {
            "image/png": "[encoded data removed]",
            "text/plain": [
              "<Figure size 1080x504 with 1 Axes>"
            ]
          },
          "metadata": {
            "needs_background": "light"
          }
        }
      ]
    },
    {
      "cell_type": "code",
      "metadata": {
        "id": "cT5kvQk8GmcM"
      },
      "source": [
        "# Split X and y (train/label)\n",
        "seq = [np.array(data[i * config.input_size: (i + 1) * config.input_size]) \n",
        "       for i in range(len(data) // config.input_size)]\n",
        "\n",
        "# Split into groups of `num_steps`\n",
        "X = np.array([seq[i: i + config.num_steps] for i in range(len(seq) - config.num_steps)])\n",
        "y = np.array([seq[i + config.num_steps] for i in range(len(seq) - config.num_steps)])"
      ],
      "execution_count": 73,
      "outputs": []
    },
    {
      "cell_type": "code",
      "metadata": {
        "colab": {
          "base_uri": "https://localhost:8080/"
        },
        "id": "PiK-u1o6G83V",
        "outputId": "5a4356f3-ff2b-4a4a-8a5f-505c74822290"
      },
      "source": [
        "print(\"Shape of X : \", X.shape) # (nb_examples, num_steps, input_size)\n",
        "print(\"Shape of y : \", y.shape) # (nb_examples, input_size)"
      ],
      "execution_count": 74,
      "outputs": [
        {
          "output_type": "stream",
          "name": "stdout",
          "text": [
            "Shape of X :  (18056, 30, 1)\n",
            "Shape of y :  (18056, 1)\n"
          ]
        }
      ]
    }
  ]
}